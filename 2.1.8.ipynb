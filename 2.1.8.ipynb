{
 "cells": [
  {
   "cell_type": "code",
   "execution_count": 37,
   "metadata": {},
   "outputs": [],
   "source": [
    "import numpy as np\n",
    "import pandas as pd\n",
    "import matplotlib.pyplot as plt\n",
    "import seaborn as sns\n",
    "import math\n",
    "from matplotlib.mlab import PCA as mlabPCA\n",
    "from sklearn.preprocessing import StandardScaler\n",
    "from sklearn.decomposition import PCA "
   ]
  },
  {
   "cell_type": "code",
   "execution_count": 38,
   "metadata": {},
   "outputs": [
    {
     "name": "stdout",
     "output_type": "stream",
     "text": [
      "     Age  Gender    Income         Occupation             Fav_Pub      WTS  \\\n",
      "0     19    Male  100000.0            Student             station   2000.0   \n",
      "1     19  Female   50000.0            Student             calumet   2000.0   \n",
      "2     20    Male  100000.0            Student             liberty   3000.0   \n",
      "3     18    Male       0.0            Student             calumet   3000.0   \n",
      "4     19  Female  130000.0  Student + working             liberty  10000.0   \n",
      "5     19    Male   90000.0            Student             station   2000.0   \n",
      "6     18  Female       0.0            Student               irish   1000.0   \n",
      "7     19  Female       0.0            Student             station   2000.0   \n",
      "8     19    Male   80000.0  Student + working   i don't like pubs  10000.0   \n",
      "9     19    Male  150000.0            Student               irish   3000.0   \n",
      "10    20  Female   80000.0            Student   i don't like pubs   3000.0   \n",
      "11    18    Male   90000.0            Student               venue      0.0   \n",
      "12    18  Female       0.0            Student             calumet   2000.0   \n",
      "13    19    Male  200000.0            Working                void   5000.0   \n",
      "14    19    Male  120000.0            Student                 das   2000.0   \n",
      "15    17  Female   30000.0            Student             station   5000.0   \n",
      "16    18    Male       0.0            Student             station   2000.0   \n",
      "17    19  Female   50000.0            Student   i don't like pubs   8000.0   \n",
      "18    17  Female       0.0            Student              pub 37   5000.0   \n",
      "19    19  Female  200000.0  Student + working   i don't like pubs   2000.0   \n",
      "20    17    Male       0.0            Student              pub 37   7000.0   \n",
      "21    19    Male       0.0            Student               venue  10000.0   \n",
      "22    21    Male  130000.0            Student              pub 37   2000.0   \n",
      "23    18    Male  100000.0  Student + working               irish   3000.0   \n",
      "24    18  Female   50000.0            Student          cantaloupe   2000.0   \n",
      "25    18  Female   40000.0            Student               irish   2000.0   \n",
      "26    20  Female  100000.0            Student          cantaloupe   2000.0   \n",
      "27    18  Female   80000.0            Student               irish   5000.0   \n",
      "28    18    Male   25000.0            Student             station   3500.0   \n",
      "29    20    Male   60000.0            Student          cantaloupe  20000.0   \n",
      "..   ...     ...       ...                ...                 ...      ...   \n",
      "145   21  Female   30000.0            Student             station   5000.0   \n",
      "146   21  Female  120000.0  Student + working          cantaloupe   5000.0   \n",
      "147   20    Male   10000.0            Student             fiction   2500.0   \n",
      "148   18  Female       0.0            Student             calumet   2000.0   \n",
      "149   21    Male  100000.0  Student + working               irish  10000.0   \n",
      "150   18  Female   20000.0            Student              pepper   1000.0   \n",
      "151   20    Male  200000.0  Student + working  ulixanyan art club   4000.0   \n",
      "152   20  Female   30000.0            Student              simona   5000.0   \n",
      "153   20    Male   40000.0            Student             station   3000.0   \n",
      "154   20  Female  150000.0            Student   i don't like pubs   4000.0   \n",
      "155   19  Female       0.0            Student             liberty   3000.0   \n",
      "156   18  Female  300000.0            Student          speak easy   2000.0   \n",
      "157   18  Female    5000.0            Student               irish  10000.0   \n",
      "158   20    Male   50000.0            Student               irish   5000.0   \n",
      "159   18  Female   35000.0            Student             station  10000.0   \n",
      "160   19  Female       0.0            Student   i don't like pubs  15000.0   \n",
      "161   17    Male       0.0            Student             liberty   3000.0   \n",
      "162   19    Male   30000.0            Student        beer academy   5000.0   \n",
      "163   18  Female   60000.0            Student             station   3000.0   \n",
      "164   18  Female       0.0            Student  ulixanyan art club   1500.0   \n",
      "165   17  Female   20000.0            Student              pepper   3000.0   \n",
      "166   19    Male   40000.0            Student              yankee  10000.0   \n",
      "167   26    Male  190000.0            Working                 NaN  10000.0   \n",
      "168   19  Female   40000.0  Student + working             liberty   2000.0   \n",
      "169   20  Female   70000.0  Student + working             calumet   3000.0   \n",
      "170   19  Female   10000.0            Student             station   2000.0   \n",
      "171   20  Female       0.0            Student             station      0.0   \n",
      "172   20  Female   80000.0  Student + working         tom collins   5000.0   \n",
      "173   19    Male       0.0            Student             fiction   5500.0   \n",
      "174   22  Female  120000.0  Student + working             beatles   5000.0   \n",
      "\n",
      "          Freq     Prim_Imp      Sec_Imp  Stratum    Lifestyle  \\\n",
      "0    Sometimes  Environment         Menu  Capital    Nightlife   \n",
      "1       Rarely        Music      Pricing  Capital  Adventurous   \n",
      "2       Rarely  Environment        Music  Capital         Busy   \n",
      "3    Sometimes  Environment        Music  Capital        Artsy   \n",
      "4       Rarely      Pricing  Environment  Capital          NaN   \n",
      "5        Often  Environment         Menu  Capital  Adventurous   \n",
      "6    Sometimes  Environment        Music  Capital        Artsy   \n",
      "7    Sometimes  Environment      Pricing  Capital         Busy   \n",
      "8       Rarely  Environment        Music  Capital  Adventurous   \n",
      "9    Sometimes  Environment        Music  Capital    Nightlife   \n",
      "10      Rarely  Environment         Menu  Capital        Artsy   \n",
      "11      Rarely  Environment        Music  Capital        Sport   \n",
      "12       Often  Environment        Music  Capital  Adventurous   \n",
      "13   Sometimes  Environment      Pricing  Capital    Nightlife   \n",
      "14   Sometimes  Environment      Pricing    Urban        Artsy   \n",
      "15   Sometimes        Music      Pricing  Capital  Adventurous   \n",
      "16   Sometimes  Environment        Music  Capital        Sport   \n",
      "17      Rarely  Environment        Music    Rural       Active   \n",
      "18      Rarely  Environment      Pricing    Urban        Artsy   \n",
      "19      Rarely  Environment        Music    Urban  Adventurous   \n",
      "20      Rarely  Environment        Music  Capital         Busy   \n",
      "21       Often  Environment        Music  Capital    Nightlife   \n",
      "22      Rarely  Environment      Pricing    Urban        Sport   \n",
      "23   Sometimes  Environment         Menu  Capital          NaN   \n",
      "24      Rarely        Music  Environment  Capital  Adventurous   \n",
      "25   Sometimes         Menu      Pricing  Capital        Artsy   \n",
      "26   Sometimes  Environment         Menu  Capital         Busy   \n",
      "27      Rarely  Environment         Menu  Capital  Adventurous   \n",
      "28      Rarely         Menu        Music    Urban  Adventurous   \n",
      "29      Rarely  Environment        Music  Capital        Artsy   \n",
      "..         ...          ...          ...      ...          ...   \n",
      "145  Sometimes  Environment        Music  Capital         Busy   \n",
      "146     Rarely        Music  Environment  Capital         Busy   \n",
      "147  Sometimes  Environment      Pricing  Capital         Busy   \n",
      "148  Sometimes  Environment        Music  Capital         Busy   \n",
      "149     Rarely  Environment        Music  Capital         Busy   \n",
      "150  Sometimes  Environment      Pricing  Capital         Busy   \n",
      "151      Often  Environment        Music  Capital      Musical   \n",
      "152  Sometimes  Environment      Pricing  Capital         Busy   \n",
      "153     Rarely  Environment      Pricing  Capital         Busy   \n",
      "154     Rarely  Environment        Music  Capital  Adventurous   \n",
      "155  Sometimes        Music         Menu  Capital  Adventurous   \n",
      "156     Rarely        Music  Environment  Capital         Busy   \n",
      "157  Sometimes        Music      Pricing  Capital        Artsy   \n",
      "158     Rarely  Environment         Menu  Capital        Sport   \n",
      "159     Rarely        Music  Environment  Capital         Busy   \n",
      "160     Rarely  Environment        Music  Capital  Adventurous   \n",
      "161     Rarely        Music  Environment  Capital         Busy   \n",
      "162  Sometimes  Environment         Menu  Capital  Adventurous   \n",
      "163     Rarely        Music  Environment    Rural         Busy   \n",
      "164  Sometimes        Music  Environment  Capital         Busy   \n",
      "165     Rarely        Music         Menu    Urban         Busy   \n",
      "166  Sometimes  Environment        Music    Urban         Busy   \n",
      "167  Sometimes        Music  Environment  Capital         Busy   \n",
      "168      Often  Environment        Music  Capital         Busy   \n",
      "169     Rarely  Environment      Pricing  Capital         Busy   \n",
      "170     Rarely  Environment        Music  Capital         Busy   \n",
      "171  Sometimes  Environment        Music  Capital         Busy   \n",
      "172     Rarely  Environment        Music  Capital         Busy   \n",
      "173      Often      Pricing        Music  Capital      Musical   \n",
      "174  Sometimes  Environment        Music  Capital         Busy   \n",
      "\n",
      "                      Occasions  \n",
      "0        Hang outs with friends  \n",
      "1        Hang outs with friends  \n",
      "2        Hang outs with friends  \n",
      "3        Hang outs with friends  \n",
      "4        Hang outs with friends  \n",
      "5        Hang outs with friends  \n",
      "6        Hang outs with friends  \n",
      "7        Hang outs with friends  \n",
      "8        Hang outs with friends  \n",
      "9        Hang outs with friends  \n",
      "10       Special events/parties  \n",
      "11       Hang outs with friends  \n",
      "12       Hang outs with friends  \n",
      "13       Special events/parties  \n",
      "14       Hang outs with friends  \n",
      "15       Hang outs with friends  \n",
      "16       Hang outs with friends  \n",
      "17                    Birthdays  \n",
      "18       Hang outs with friends  \n",
      "19                    Birthdays  \n",
      "20       Hang outs with friends  \n",
      "21       Hang outs with friends  \n",
      "22       Hang outs with friends  \n",
      "23       Hang outs with friends  \n",
      "24       Hang outs with friends  \n",
      "25       Hang outs with friends  \n",
      "26       Hang outs with friends  \n",
      "27       Hang outs with friends  \n",
      "28       Special events/parties  \n",
      "29       Hang outs with friends  \n",
      "..                          ...  \n",
      "145      Hang outs with friends  \n",
      "146      Hang outs with friends  \n",
      "147      Hang outs with friends  \n",
      "148      Hang outs with friends  \n",
      "149      Hang outs with friends  \n",
      "150      Special events/parties  \n",
      "151      Hang outs with friends  \n",
      "152      Hang outs with friends  \n",
      "153      Hang outs with friends  \n",
      "154      Hang outs with friends  \n",
      "155      Hang outs with friends  \n",
      "156  For listening  good music   \n",
      "157                   Birthdays  \n",
      "158      Special events/parties  \n",
      "159      Special events/parties  \n",
      "160                   Birthdays  \n",
      "161      Hang outs with friends  \n",
      "162      Hang outs with friends  \n",
      "163                   Birthdays  \n",
      "164      Hang outs with friends  \n",
      "165      Hang outs with friends  \n",
      "166      Hang outs with friends  \n",
      "167      Hang outs with friends  \n",
      "168      Hang outs with friends  \n",
      "169      Hang outs with friends  \n",
      "170      Hang outs with friends  \n",
      "171      Hang outs with friends  \n",
      "172      Hang outs with friends  \n",
      "173      Hang outs with friends  \n",
      "174      Hang outs with friends  \n",
      "\n",
      "[175 rows x 12 columns]\n"
     ]
    }
   ],
   "source": [
    "ds = pd.read_csv(r'C:\\Users\\jmfra\\OneDrive\\Documents\\Thinkful Data Science Files\\1.5.1 data\\armenian_pubs.csv')\n",
    "ds = ds.drop('Timestamp', axis=1)\n",
    "ds['Occupation'] = ds.Occupation.str.strip()\n",
    "ds['Fav_Pub'] = ds.Fav_Pub.str.strip()\n",
    "ds['Fav_Pub'] = ds.Fav_Pub.str.lower()\n",
    "ds['Fav_Pub'] = ds.Fav_Pub.str.replace('^the ','')\n",
    "ds['Fav_Pub'] = ds.Fav_Pub.str.replace('i have none','do not have one')\n",
    "ds['Fav_Pub'] = ds.Fav_Pub.str.replace('37 pub','pub 37')\n",
    "ds['Freq'] = ds.Freq.str.replace('Several times in a month','Sometimes')\n",
    "ds['Freq'] = ds.Freq.str.replace('^rarely.+','Rarely')\n",
    "ds['Freq'] = ds.Freq.str.replace('Several times a week','Often')\n",
    "ds['Lifestyle'] = ds.Lifestyle.str.strip()\n",
    "ds['Lifestyle'] = ds.Lifestyle.str.replace('^Adventur.+','Adventurous')\n",
    "ds['Lifestyle'] = ds.Lifestyle.str.replace('^Busy.+','Busy')\n",
    "ds['Lifestyle'] = ds.Lifestyle.str.replace('^Rock.+','Musical')\n",
    "ds['Lifestyle'] = ds.Lifestyle.str.replace('^Business.+','Active')\n",
    "ds['Lifestyle'] = ds.Lifestyle.str.replace('^Sport\\,.+','Active')\n",
    "ds['Lifestyle'] = ds.Lifestyle.str.replace('^Art','Artsy')\n",
    "ds['WTS'] = ds['WTS'].fillna(ds['WTS'].median())\n",
    "print(ds)"
   ]
  },
  {
   "cell_type": "markdown",
   "metadata": {},
   "source": [
    "Using a dataset of your choice, select an outcome variable and then pick four or five other variables (one to two categorical, three to four continuous) to act as the basis for features."
   ]
  },
  {
   "cell_type": "markdown",
   "metadata": {},
   "source": [
    "## Outcome variable: Favorite Pub\n",
    "\n",
    "## Categorical Variables: Gender, Occupation\n",
    "\n",
    "## Continous variables: Income, Age, Willingness To Spend"
   ]
  },
  {
   "cell_type": "markdown",
   "metadata": {},
   "source": [
    "Next, based on what you learned via your data exploration, create ten new features. Explain the reasoning behind each one."
   ]
  },
  {
   "cell_type": "code",
   "execution_count": 39,
   "metadata": {},
   "outputs": [
    {
     "data": {
      "image/png": "[encoded data removed]",
      "text/plain": [
       "<matplotlib.figure.Figure at 0x2b7ca10>"
      ]
     },
     "metadata": {},
     "output_type": "display_data"
    }
   ],
   "source": [
    "corrmat = ds.corr()\n",
    "f, ax = plt.subplots()\n",
    "sns.heatmap(corrmat, vmax = .8, square=True)\n",
    "plt.show()"
   ]
  },
  {
   "cell_type": "code",
   "execution_count": 40,
   "metadata": {},
   "outputs": [
    {
     "name": "stdout",
     "output_type": "stream",
     "text": [
      "Occupation  CEO  Entrepreneur / Software Engineer  Student  Student + working  \\\n",
      "InSchool                                                                        \n",
      "0             1                                 1        0                  0   \n",
      "1             0                                 0      122                 40   \n",
      "\n",
      "Occupation  Working  army  \n",
      "InSchool                   \n",
      "0                10     1  \n",
      "1                 0     0  \n",
      "InSchool\n",
      "0     13\n",
      "1    162\n",
      "Name: Occupation, dtype: int64\n"
     ]
    }
   ],
   "source": [
    "#There are a few inputs that are specific jobs, but mose are general categories, so let's group into students and non students\n",
    "test = pd.get_dummies(ds['Occupation'])\n",
    "test['InSchool'] = np.where((ds['Occupation'].isin(['Student', 'Student + working'])), 1, 0)\n",
    "ds['InSchool'] = np.where((ds['Occupation'].isin(['Student', 'Student + working'])), 1, 0)\n",
    "print(pd.crosstab(test['InSchool'], ds['Occupation']))\n",
    "print(ds['Occupation'].groupby(test['InSchool']).size())"
   ]
  },
  {
   "cell_type": "code",
   "execution_count": 41,
   "metadata": {},
   "outputs": [
    {
     "name": "stdout",
     "output_type": "stream",
     "text": [
      "Gender_classifier\n",
      "0    102\n",
      "1     73\n",
      "Name: Gender_classifier, dtype: int64\n"
     ]
    }
   ],
   "source": [
    "#turning Gender into a usable classification\n",
    "ds['Gender_classifier'] = np.where(ds['Gender'].isin(['Male']),1,0)\n",
    "print(ds['Gender_classifier'].groupby(ds['Gender_classifier']).size())"
   ]
  },
  {
   "cell_type": "code",
   "execution_count": 42,
   "metadata": {},
   "outputs": [
    {
     "name": "stdout",
     "output_type": "stream",
     "text": [
      "Over18\n",
      "0     61\n",
      "1    114\n",
      "Name: Age, dtype: int64\n"
     ]
    }
   ],
   "source": [
    "#we would assume that age plays a huge part in bar selection, so seperating it into college age students and below college age \n",
    "#can probably tell us what age range enjoys specific environments\n",
    "ds['Over18'] = np.where(ds['Age']>18, 1, 0)\n",
    "print(ds['Age'].groupby(ds['Over18']).size())"
   ]
  },
  {
   "cell_type": "code",
   "execution_count": 43,
   "metadata": {},
   "outputs": [
    {
     "name": "stdout",
     "output_type": "stream",
     "text": [
      "WTS_Interval\n",
      "1    51\n",
      "2    44\n",
      "3    48\n",
      "4     8\n",
      "5    16\n",
      "6     8\n",
      "dtype: int64\n"
     ]
    }
   ],
   "source": [
    "#making Willingness to sell into an easier to use category\n",
    "ds['WTS_Interval'] = pd.cut(ds.WTS, \n",
    "                            bins=[-1,2000,4000,6000,8000,10000,1000000], \n",
    "                            labels=[1,2,3,4,5,6])\n",
    "wts_interval = ds.groupby('WTS_Interval').size()\n",
    "print(wts_interval)"
   ]
  },
  {
   "cell_type": "code",
   "execution_count": 44,
   "metadata": {},
   "outputs": [
    {
     "name": "stdout",
     "output_type": "stream",
     "text": [
      "Income_Interval\n",
      "1     56\n",
      "2     30\n",
      "3     18\n",
      "4     30\n",
      "5      6\n",
      "6     10\n",
      "7      1\n",
      "8     11\n",
      "9      6\n",
      "10     2\n",
      "11     0\n",
      "12     0\n",
      "13     1\n",
      "14     0\n",
      "15     2\n",
      "16     0\n",
      "17     1\n",
      "dtype: int64\n"
     ]
    }
   ],
   "source": [
    "#identical to the cell above\n",
    "ds['Income_Interval'] = pd.cut(ds.Income, \n",
    "                               bins=[-1,25000,50000,75000,100000,125000,150000,175000,200000,\n",
    "                                     300000,400000,500000,600000,700000,800000,900000,1000000,\n",
    "                                     50000000], \n",
    "                               labels=[1,2,3,4,5,6,7,8,9,10,11,12,13,14,15,16,17])\n",
    "income_interval = ds.groupby('Income_Interval').size()\n",
    "print(income_interval)"
   ]
  },
  {
   "cell_type": "code",
   "execution_count": 45,
   "metadata": {},
   "outputs": [
    {
     "data": {
      "image/png": "[encoded data removed]",
      "text/plain": [
       "<matplotlib.figure.Figure at 0x547ab10>"
      ]
     },
     "metadata": {},
     "output_type": "display_data"
    }
   ],
   "source": [
    "#comparing willingness to sell to income to see if there is a high correlation between the two as we would expect\n",
    "ds['WTS_Interval_int'] = ds['WTS_Interval'].astype(int)\n",
    "ds['Income_Interval_int'] = ds['Income_Interval'].astype(int)\n",
    "ax = sns.lmplot(y='Income_Interval_int', x='WTS_Interval_int', data=ds)\n",
    "ax.set(xlim=(0, 7))\n",
    "ax.set(ylim=(0, 20))\n",
    "plt.show()\n",
    "means = ds[['WTS_Interval_int','Income_Interval_int']].mean(axis=0)\n",
    "stds = ds[['WTS_Interval_int','Income_Interval_int']].std(axis=0)\n",
    "ds['WTS+Income'] = ((ds[['WTS_Interval_int','Income_Interval_int']] - means) / stds).mean(axis=1)"
   ]
  },
  {
   "cell_type": "code",
   "execution_count": 46,
   "metadata": {
    "scrolled": true
   },
   "outputs": [
    {
     "data": {
      "image/png": "[encoded data removed]",
      "text/plain": [
       "<matplotlib.figure.Figure at 0x546e9f0>"
      ]
     },
     "metadata": {},
     "output_type": "display_data"
    }
   ],
   "source": [
    "#testing to see if reforming age makes it easier to work with\n",
    "fig = plt.figure()\n",
    "\n",
    "fig.add_subplot(221)\n",
    "plt.hist(ds['Age'].dropna())\n",
    "plt.title('Raw')\n",
    "\n",
    "fig.add_subplot(222)\n",
    "plt.hist(np.log(ds['Age'].dropna()))\n",
    "plt.title('Log')\n",
    "\n",
    "fig.add_subplot(223)\n",
    "plt.hist(np.sqrt(ds['Age'].dropna()))\n",
    "plt.title('Square root')\n",
    "\n",
    "ax3=fig.add_subplot(224)\n",
    "plt.hist(1/ds['Age'].dropna())\n",
    "plt.title('Inverse')\n",
    "plt.tight_layout()\n",
    "plt.show()"
   ]
  },
  {
   "cell_type": "code",
   "execution_count": 47,
   "metadata": {},
   "outputs": [],
   "source": [
    "#age and whether or not a person is in school is the highest correlated variable to lets combine them\n",
    "means = ds[['Age','InSchool']].mean(axis=0)\n",
    "stds = ds[['Age','InSchool']].std(axis=0)\n",
    "ds['School+Age'] = ((ds[['Age','InSchool']] - means) / stds).mean(axis=1)"
   ]
  },
  {
   "cell_type": "code",
   "execution_count": 48,
   "metadata": {},
   "outputs": [],
   "source": [
    "#combining all continuous variables because we would expecct them to be correlated\n",
    "means = ds[['Age','WTS','Income']].mean(axis=0)\n",
    "stds = ds[['Age','WTS','Income']].std(axis=0)\n",
    "ds['continuous'] = ((ds[['Age','WTS','Income']] - means) / stds).mean(axis=1)"
   ]
  },
  {
   "cell_type": "code",
   "execution_count": 49,
   "metadata": {},
   "outputs": [
    {
     "data": {
      "image/png": "[encoded data removed]",
      "text/plain": [
       "<matplotlib.figure.Figure at 0x52a0670>"
      ]
     },
     "metadata": {},
     "output_type": "display_data"
    }
   ],
   "source": [
    "sns.regplot(\n",
    "    ds['Age'],\n",
    "    y=ds['Income'],\n",
    "    y_jitter=.49,\n",
    "    order=2,\n",
    "    scatter_kws={'alpha':0.3},\n",
    "    line_kws={'color':'black'},\n",
    "    ci=None\n",
    ")\n",
    "plt.show()\n",
    "\n",
    "ds['age_squared'] = ds['Age'] * ds['Age']"
   ]
  },
  {
   "cell_type": "code",
   "execution_count": 50,
   "metadata": {},
   "outputs": [
    {
     "data": {
      "image/png": "[encoded data removed]",
      "text/plain": [
       "<matplotlib.figure.Figure at 0x544dfd0>"
      ]
     },
     "metadata": {},
     "output_type": "display_data"
    }
   ],
   "source": [
    "corrmat = ds.corr()\n",
    "f, ax = plt.subplots()\n",
    "sns.heatmap(corrmat, vmax = .8, square=True)\n",
    "plt.show()"
   ]
  },
  {
   "cell_type": "markdown",
   "metadata": {},
   "source": [
    "Finally, use filtering methods to select the five best features and justify your choices."
   ]
  },
  {
   "cell_type": "markdown",
   "metadata": {},
   "source": [
    "It looks like the top 5 features to use are School+age, Gender, WTS+Income, Over18, and Income.\n",
    "I chose these because they encompass all of the variables while combining week variables from the original data into categories that would likley provide a correlation. None of the variables besides Age and whether or not they are in school have high correlations to begin with becuase of the small sample size, so I chose them logically."
   ]
  },
  {
   "cell_type": "code",
   "execution_count": null,
   "metadata": {},
   "outputs": [],
   "source": []
  }
 ],
 "metadata": {
  "kernelspec": {
   "display_name": "Python 3",
   "language": "python",
   "name": "python3"
  },
  "language_info": {
   "codemirror_mode": {
    "name": "ipython",
    "version": 3
   },
   "file_extension": ".py",
   "mimetype": "text/x-python",
   "name": "python",
   "nbconvert_exporter": "python",
   "pygments_lexer": "ipython3",
   "version": "3.6.3"
  }
 },
 "nbformat": 4,
 "nbformat_minor": 2
}
