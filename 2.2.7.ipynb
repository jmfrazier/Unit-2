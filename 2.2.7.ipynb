{
 "cells": [
  {
   "cell_type": "markdown",
   "metadata": {},
   "source": [
    "## 2.2.7 Challenge: Feedback analysis\n",
    "\n",
    "In this file, I am going to take a list of movie reviews from the popular site imdb, and attempt to see if a program can guess if it is a positive or negative review. The actual status is listed and I will compare my guesses to the actual answer to see how many I got correct. I will set a bar for success at 90%. \n",
    "\n",
    "Once I finish the script, I will run it using a list of establishment reviews on yelp to see if the model has any value when carried for a different purpose.\n",
    "\n"
   ]
  },
  {
   "cell_type": "code",
   "execution_count": 1,
   "metadata": {},
   "outputs": [],
   "source": [
    "import numpy as np\n",
    "import pandas as pd\n",
    "import matplotlib.pyplot as plt\n",
    "import seaborn as sns\n",
    "import math\n",
    "from matplotlib.mlab import PCA as mlabPCA\n",
    "from sklearn.preprocessing import StandardScaler\n",
    "from sklearn.decomposition import PCA "
   ]
  },
  {
   "cell_type": "code",
   "execution_count": 2,
   "metadata": {},
   "outputs": [
    {
     "name": "stderr",
     "output_type": "stream",
     "text": [
      "c:\\users\\jmfra\\appdata\\local\\programs\\python\\python36-32\\lib\\site-packages\\ipykernel_launcher.py:4: ParserWarning: Falling back to the 'python' engine because the 'c' engine does not support regex separators (separators > 1 char and different from '\\s+' are interpreted as regex); you can avoid this warning by specifying engine='python'.\n",
      "  after removing the cwd from sys.path.\n"
     ]
    }
   ],
   "source": [
    "#Here I am going to load the reviews and their score as well as two other lists. One list contains roughly 2500 buzz words that\n",
    "#we define as \"good\" and the other contains roughly 3300 buzz words we define as \"bad.\" If I were to go through the reviews and\n",
    "#manually select buzz words, that would take way too long, so this is a good place to start.\n",
    "da = pd.read_csv(r\"C:\\Users\\jmfra\\OneDrive\\Documents\\Thinkful Data Science Files\\sentiment labelled sentences\\imdb_labelled.txt\", delimiter= '\\t|\\t1\\n', header=None)\n",
    "da.columns = ['text', 'score']\n",
    "good = pd.read_csv(r\"C:\\Users\\jmfra\\OneDrive\\Documents\\Thinkful Data Science Files\\2.2.7\\positive.txt\", header=None)\n",
    "good.columns = ['x']\n",
    "bad = pd.read_csv(r\"C:\\Users\\jmfra\\OneDrive\\Documents\\Thinkful Data Science Files\\2.2.7\\negative.txt\", header=None)\n",
    "bad.columns = ['x']"
   ]
  },
  {
   "cell_type": "code",
   "execution_count": 3,
   "metadata": {},
   "outputs": [],
   "source": [
    "#The two lists above are in a pandas dataframe. They are easier to use in a list, so I have converted them to one.\n",
    "goodwords = list(good.values.flatten())\n",
    "badwords = list(bad.values.flatten())"
   ]
  },
  {
   "cell_type": "code",
   "execution_count": 4,
   "metadata": {
    "scrolled": false
   },
   "outputs": [],
   "source": [
    "#Some quick data cleaning.\n",
    "da['text'] = da.text.str.lower()\n",
    "da['text'] = da.text.str.strip()\n",
    "da['text'] = da.text.str.replace('\\.', '')"
   ]
  },
  {
   "cell_type": "code",
   "execution_count": 5,
   "metadata": {},
   "outputs": [],
   "source": [
    "#Score is the column with the actual decision of if a review is good or bad with a 0 being bad and 1 being good. Let's make this\n",
    "#into a boolean with True and False values to make it easier to use later.\n",
    "da['score'] = (da['score'] == 0)"
   ]
  },
  {
   "cell_type": "code",
   "execution_count": 6,
   "metadata": {},
   "outputs": [],
   "source": [
    "#Since there are thousands of entries in the good words list, it is easiest to write a for loop that checks to see if each element\n",
    "#has a match in each review. This loop then adds a column to the original dataset with a value of False if they match. This is \n",
    "#because in the previous cell, we set a score of 1(good) to False and we want these outputs to match\n",
    "keywords_good = goodwords\n",
    "\n",
    "for key in keywords_good:\n",
    "    da[str(key)] = da.text.str.contains(str(key), case=False)"
   ]
  },
  {
   "cell_type": "code",
   "execution_count": 7,
   "metadata": {},
   "outputs": [],
   "source": [
    "#Same concept as above but set the output to True\n",
    "keywords_bad = badwords\n",
    "\n",
    "for key in keywords_bad:\n",
    "    da[str(key)] = da.text.str.contains(str(key), case=True)"
   ]
  },
  {
   "cell_type": "code",
   "execution_count": 8,
   "metadata": {},
   "outputs": [],
   "source": [
    "#storing all of the oututs above in a new dataframe, and the real answer in its own as well.\n",
    "data = da[keywords_good + keywords_bad]\n",
    "target = da['score']"
   ]
  },
  {
   "cell_type": "code",
   "execution_count": 9,
   "metadata": {},
   "outputs": [
    {
     "name": "stdout",
     "output_type": "stream",
     "text": [
      "Number of correctly labeled points out of a total 1000 points : 853 or a 0.853 success ratio\n"
     ]
    }
   ],
   "source": [
    "# Our data is binary / boolean, so we're importing the Bernoulli classifier.\n",
    "from sklearn.naive_bayes import BernoulliNB\n",
    "\n",
    "# Instantiate our model and store it in a new variable.\n",
    "bnb = BernoulliNB()\n",
    "\n",
    "# Fit our model to the data.\n",
    "bnb.fit(data, target)\n",
    "\n",
    "# Classify, storing the result in a new variable.\n",
    "y_pred = bnb.predict(data)\n",
    "\n",
    "# Display our results.\n",
    "print(\"Number of correctly labeled points out of a total {} points : {} or a {} success ratio\".format(\n",
    "    data.shape[0],\n",
    "    (target == y_pred).sum(),\n",
    "    ((target == y_pred).sum())/data.shape[0]\n",
    "))"
   ]
  },
  {
   "cell_type": "code",
   "execution_count": 10,
   "metadata": {},
   "outputs": [],
   "source": [
    "#.853 is very solid for a first pass as it is only 4.7% lower than success. In the next four cells, I have added or removed words\n",
    "#to both good and bad lists that caused some outputs to be incorrect. Then I reran the original for loops to add these new words \n",
    "#and their elements to the dataframe and reran the boolean test to see our new success ratio.\n",
    "goodwords.append('best')\n",
    "goodwords.append('rivet')\n",
    "goodwords.append('cool')\n",
    "goodwords.append('10')\n",
    "goodwords.append('promote')\n",
    "goodwords.append('give this one a look')\n",
    "goodwords.append('pretty decent')\n",
    "goodwords.append('nostalgia')\n",
    "goodwords.append('applause')\n",
    "goodwords.append('liked')\n",
    "goodwords.append('go and see')\n",
    "goodwords.append('must see')\n",
    "goodwords.append('fascinated')\n",
    "goodwords.append('amaze')\n",
    "goodwords.append('pearls')\n",
    "goodwords.append('cult')\n",
    "goodwords.append('taped')\n",
    "goodwords.append('powerful')\n",
    "goodwords.append('cutting edge')\n",
    "goodwords.append('to learn more')\n",
    "goodwords.append('unique')\n",
    "goodwords.append('just right')\n",
    "goodwords.append('really likes')\n",
    "goodwords.append('not bad')\n",
    "goodwords.append('impressed')\n",
    "goodwords = [x for x in goodwords if x != 'improved']\n",
    "goodwords = [x for x in goodwords if x != 'free']\n",
    "\n",
    "keywords_good = goodwords\n",
    "\n",
    "for key in keywords_good:\n",
    "    da[str(key)] = da.text.str.contains(str(key), case=False)"
   ]
  },
  {
   "cell_type": "code",
   "execution_count": 11,
   "metadata": {},
   "outputs": [],
   "source": [
    "badwords.append('absolutely no')\n",
    "badwords.append('dislike')\n",
    "badwords.append('disliked')\n",
    "badwords.append('pillow')\n",
    "badwords.append('crap')\n",
    "badwords.append('shattered')\n",
    "badwords.append('not a pleasant')\n",
    "badwords.append('too many')\n",
    "badwords.append('uninteresting')\n",
    "badwords.append('unremarkable')\n",
    "badwords.append('abstruse')\n",
    "badwords.append('kill')\n",
    "badwords.append('sucked')\n",
    "badwords.append('witticisms')\n",
    "badwords.append('1/10')\n",
    "badwords.append('0/10')\n",
    "badwords.append('embarrassed')\n",
    "badwords.append('barely comprehensible')\n",
    "badwords.append('remotely')\n",
    "badwords = [x for x in badwords if x != 'less']\n",
    "\n",
    "keywords_bad = badwords\n",
    "\n",
    "for key in keywords_bad:\n",
    "    da[str(key)] = da.text.str.contains(str(key), case=True)"
   ]
  },
  {
   "cell_type": "code",
   "execution_count": 12,
   "metadata": {},
   "outputs": [],
   "source": [
    "data = da[keywords_good + keywords_bad]\n",
    "target = da['score']"
   ]
  },
  {
   "cell_type": "code",
   "execution_count": 13,
   "metadata": {},
   "outputs": [
    {
     "name": "stdout",
     "output_type": "stream",
     "text": [
      "Number of correctly labeled points out of a total 1000 points : 900 or a 0.9 success ratio\n"
     ]
    }
   ],
   "source": [
    "# Our data is binary / boolean, so we're importing the Bernoulli classifier.\n",
    "from sklearn.naive_bayes import BernoulliNB\n",
    "\n",
    "# Instantiate our model and store it in a new variable.\n",
    "bnb = BernoulliNB()\n",
    "\n",
    "# Fit our model to the data.\n",
    "bnb.fit(data, target)\n",
    "\n",
    "# Classify, storing the result in a new variable.\n",
    "y_pred = bnb.predict(data)\n",
    "\n",
    "# Display our results.\n",
    "print(\"Number of correctly labeled points out of a total {} points : {} or a {} success ratio\".format(\n",
    "    data.shape[0],\n",
    "    (target == y_pred).sum(),\n",
    "    ((target == y_pred).sum())/data.shape[0]\n",
    "))"
   ]
  },
  {
   "cell_type": "code",
   "execution_count": 14,
   "metadata": {},
   "outputs": [
    {
     "name": "stderr",
     "output_type": "stream",
     "text": [
      "c:\\users\\jmfra\\appdata\\local\\programs\\python\\python36-32\\lib\\site-packages\\ipykernel_launcher.py:2: ParserWarning: Falling back to the 'python' engine because the 'c' engine does not support regex separators (separators > 1 char and different from '\\s+' are interpreted as regex); you can avoid this warning by specifying engine='python'.\n",
      "  \n"
     ]
    }
   ],
   "source": [
    "#Now that I have achieved the success criteria, I need to run it on a new set of reviews\n",
    "ds = pd.read_csv(r\"C:\\Users\\jmfra\\OneDrive\\Documents\\Thinkful Data Science Files\\sentiment labelled sentences\\yelp_labelled.txt\", delimiter= '\\t|\\t1\\n', header=None)"
   ]
  },
  {
   "cell_type": "code",
   "execution_count": 15,
   "metadata": {},
   "outputs": [],
   "source": [
    "ds.columns = ['text', 'score']\n",
    "ds['text'] = ds.text.str.lower()\n",
    "ds['text'] = ds.text.str.strip()\n",
    "ds['text'] = ds.text.str.replace('\\.', '')\n",
    "ds['score'] = (ds['score'] == 0)"
   ]
  },
  {
   "cell_type": "code",
   "execution_count": 16,
   "metadata": {},
   "outputs": [],
   "source": [
    "keywords_good = goodwords\n",
    "\n",
    "for key in keywords_good:\n",
    "    ds[str(key)] = ds.text.str.contains(str(key), case=False)\n",
    "    \n",
    "keywords_bad = badwords\n",
    "\n",
    "for key in keywords_bad:\n",
    "    ds[str(key)] = ds.text.str.contains(str(key), case=True)"
   ]
  },
  {
   "cell_type": "code",
   "execution_count": 17,
   "metadata": {},
   "outputs": [],
   "source": [
    "data = ds[keywords_good + keywords_bad]\n",
    "target = ds['score']"
   ]
  },
  {
   "cell_type": "code",
   "execution_count": 18,
   "metadata": {},
   "outputs": [
    {
     "name": "stdout",
     "output_type": "stream",
     "text": [
      "Number of correctly labeled points out of a total 1000 points : 844 or a 0.844 success ratio\n"
     ]
    }
   ],
   "source": [
    "# Our data is binary / boolean, so we're importing the Bernoulli classifier.\n",
    "from sklearn.naive_bayes import BernoulliNB\n",
    "\n",
    "# Instantiate our model and store it in a new variable.\n",
    "bnb = BernoulliNB()\n",
    "\n",
    "# Fit our model to the data.\n",
    "bnb.fit(data, target)\n",
    "\n",
    "# Classify, storing the result in a new variable.\n",
    "y_pred = bnb.predict(data)\n",
    "\n",
    "# Display our results.\n",
    "print(\"Number of correctly labeled points out of a total {} points : {} or a {} success ratio\".format(\n",
    "    data.shape[0],\n",
    "    (target == y_pred).sum(),\n",
    "    ((target == y_pred).sum())/data.shape[0]\n",
    "))"
   ]
  },
  {
   "cell_type": "code",
   "execution_count": null,
   "metadata": {},
   "outputs": [],
   "source": []
  }
 ],
 "metadata": {
  "kernelspec": {
   "display_name": "Python 3",
   "language": "python",
   "name": "python3"
  },
  "language_info": {
   "codemirror_mode": {
    "name": "ipython",
    "version": 3
   },
   "file_extension": ".py",
   "mimetype": "text/x-python",
   "name": "python",
   "nbconvert_exporter": "python",
   "pygments_lexer": "ipython3",
   "version": "3.6.3"
  }
 },
 "nbformat": 4,
 "nbformat_minor": 2
}
