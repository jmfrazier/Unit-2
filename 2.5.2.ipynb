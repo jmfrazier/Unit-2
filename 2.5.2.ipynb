{
 "cells": [
  {
   "cell_type": "code",
   "execution_count": 1,
   "metadata": {},
   "outputs": [],
   "source": [
    "import numpy as np\n",
    "import pandas as pd\n",
    "import matplotlib.pyplot as plt\n",
    "import seaborn as sns\n",
    "import math\n",
    "import statsmodels.formula.api as smf\n",
    "from matplotlib.mlab import PCA as mlabPCA\n",
    "from sklearn.preprocessing import StandardScaler\n",
    "from sklearn.decomposition import PCA \n",
    "from sklearn.model_selection import StratifiedKFold\n",
    "from sklearn.model_selection import cross_val_score\n",
    "from sklearn import svm\n",
    "from sklearn.model_selection import train_test_split\n",
    "from sklearn.metrics import confusion_matrix\n",
    "from sklearn import linear_model\n",
    "%matplotlib inline\n",
    "pd.options.display.float_format = '{:.3f}'.format\n",
    "import warnings\n",
    "warnings.filterwarnings(action=\"ignore\", module=\"scipy\", message=\"^internal gelsd\")"
   ]
  },
  {
   "cell_type": "code",
   "execution_count": 2,
   "metadata": {},
   "outputs": [],
   "source": [
    "#data import\n",
    "da = pd.read_csv(r'C:\\Users\\jmfra\\OneDrive\\Documents\\Thinkful Data Science Files\\2.4.2 drill data\\table8.csv')"
   ]
  },
  {
   "cell_type": "code",
   "execution_count": 3,
   "metadata": {},
   "outputs": [],
   "source": [
    "#first we need to fill in Nan values with 0 to avoid errors and get rid of the\n",
    "#empty rows at the bottom\n",
    "da.fillna(value=0)\n",
    "da = da[0:348]"
   ]
  },
  {
   "cell_type": "code",
   "execution_count": 4,
   "metadata": {
    "collapsed": true
   },
   "outputs": [
    {
     "name": "stderr",
     "output_type": "stream",
     "text": [
      "c:\\users\\jmfra\\appdata\\local\\programs\\python\\python36-32\\lib\\site-packages\\ipykernel_launcher.py:6: SettingWithCopyWarning: \n",
      "A value is trying to be set on a copy of a slice from a DataFrame.\n",
      "Try using .loc[row_indexer,col_indexer] = value instead\n",
      "\n",
      "See the caveats in the documentation: http://pandas.pydata.org/pandas-docs/stable/indexing.html#indexing-view-versus-copy\n",
      "  \n",
      "c:\\users\\jmfra\\appdata\\local\\programs\\python\\python36-32\\lib\\site-packages\\ipykernel_launcher.py:7: SettingWithCopyWarning: \n",
      "A value is trying to be set on a copy of a slice from a DataFrame.\n",
      "Try using .loc[row_indexer,col_indexer] = value instead\n",
      "\n",
      "See the caveats in the documentation: http://pandas.pydata.org/pandas-docs/stable/indexing.html#indexing-view-versus-copy\n",
      "  import sys\n",
      "c:\\users\\jmfra\\appdata\\local\\programs\\python\\python36-32\\lib\\site-packages\\ipykernel_launcher.py:8: SettingWithCopyWarning: \n",
      "A value is trying to be set on a copy of a slice from a DataFrame.\n",
      "Try using .loc[row_indexer,col_indexer] = value instead\n",
      "\n",
      "See the caveats in the documentation: http://pandas.pydata.org/pandas-docs/stable/indexing.html#indexing-view-versus-copy\n",
      "  \n",
      "c:\\users\\jmfra\\appdata\\local\\programs\\python\\python36-32\\lib\\site-packages\\ipykernel_launcher.py:9: SettingWithCopyWarning: \n",
      "A value is trying to be set on a copy of a slice from a DataFrame.\n",
      "Try using .loc[row_indexer,col_indexer] = value instead\n",
      "\n",
      "See the caveats in the documentation: http://pandas.pydata.org/pandas-docs/stable/indexing.html#indexing-view-versus-copy\n",
      "  if __name__ == '__main__':\n",
      "c:\\users\\jmfra\\appdata\\local\\programs\\python\\python36-32\\lib\\site-packages\\ipykernel_launcher.py:10: SettingWithCopyWarning: \n",
      "A value is trying to be set on a copy of a slice from a DataFrame.\n",
      "Try using .loc[row_indexer,col_indexer] = value instead\n",
      "\n",
      "See the caveats in the documentation: http://pandas.pydata.org/pandas-docs/stable/indexing.html#indexing-view-versus-copy\n",
      "  # Remove the CWD from sys.path while we load stuff.\n",
      "c:\\users\\jmfra\\appdata\\local\\programs\\python\\python36-32\\lib\\site-packages\\ipykernel_launcher.py:11: SettingWithCopyWarning: \n",
      "A value is trying to be set on a copy of a slice from a DataFrame.\n",
      "Try using .loc[row_indexer,col_indexer] = value instead\n",
      "\n",
      "See the caveats in the documentation: http://pandas.pydata.org/pandas-docs/stable/indexing.html#indexing-view-versus-copy\n",
      "  # This is added back by InteractiveShellApp.init_path()\n",
      "c:\\users\\jmfra\\appdata\\local\\programs\\python\\python36-32\\lib\\site-packages\\ipykernel_launcher.py:12: SettingWithCopyWarning: \n",
      "A value is trying to be set on a copy of a slice from a DataFrame.\n",
      "Try using .loc[row_indexer,col_indexer] = value instead\n",
      "\n",
      "See the caveats in the documentation: http://pandas.pydata.org/pandas-docs/stable/indexing.html#indexing-view-versus-copy\n",
      "  if sys.path[0] == '':\n",
      "c:\\users\\jmfra\\appdata\\local\\programs\\python\\python36-32\\lib\\site-packages\\ipykernel_launcher.py:13: SettingWithCopyWarning: \n",
      "A value is trying to be set on a copy of a slice from a DataFrame.\n",
      "Try using .loc[row_indexer,col_indexer] = value instead\n",
      "\n",
      "See the caveats in the documentation: http://pandas.pydata.org/pandas-docs/stable/indexing.html#indexing-view-versus-copy\n",
      "  del sys.path[0]\n",
      "c:\\users\\jmfra\\appdata\\local\\programs\\python\\python36-32\\lib\\site-packages\\ipykernel_launcher.py:14: SettingWithCopyWarning: \n",
      "A value is trying to be set on a copy of a slice from a DataFrame.\n",
      "Try using .loc[row_indexer,col_indexer] = value instead\n",
      "\n",
      "See the caveats in the documentation: http://pandas.pydata.org/pandas-docs/stable/indexing.html#indexing-view-versus-copy\n",
      "  \n",
      "c:\\users\\jmfra\\appdata\\local\\programs\\python\\python36-32\\lib\\site-packages\\ipykernel_launcher.py:15: SettingWithCopyWarning: \n",
      "A value is trying to be set on a copy of a slice from a DataFrame.\n",
      "Try using .loc[row_indexer,col_indexer] = value instead\n",
      "\n",
      "See the caveats in the documentation: http://pandas.pydata.org/pandas-docs/stable/indexing.html#indexing-view-versus-copy\n",
      "  from ipykernel import kernelapp as app\n"
     ]
    }
   ],
   "source": [
    "#Using print shows that the column names are not straight forward so let's\n",
    "#edit them all, add them to a new dataframe and leave out the unnecessary\n",
    "#columns\n",
    "dp = []\n",
    "dp = da[['Population']]\n",
    "dp['Violent_Crime'] = da[['Violent\\ncrime']]\n",
    "dp['Murder'] = da[['Murder and\\nnonnegligent\\nmanslaughter']]\n",
    "dp['Rape'] = da[['Rape\\n(legacy\\ndefinition)2']]\n",
    "dp['Robbery'] = da[['Robbery']]\n",
    "dp['Burglary'] = da[['Burglary']]\n",
    "dp['Aggravated_Assault'] = da[['Aggravated\\nassault']]\n",
    "dp['Larceny_Theft'] = da[['Larceny-\\ntheft']]\n",
    "dp['Motor_Vehicle_Theft'] = da[['Motor\\nvehicle\\ntheft']]\n",
    "dp['Arson'] = da[['Arson3']]\n",
    "dp['Property_Crime'] = da[['Property\\ncrime']]"
   ]
  },
  {
   "cell_type": "code",
   "execution_count": 5,
   "metadata": {
    "collapsed": true
   },
   "outputs": [
    {
     "name": "stderr",
     "output_type": "stream",
     "text": [
      "c:\\users\\jmfra\\appdata\\local\\programs\\python\\python36-32\\lib\\site-packages\\ipykernel_launcher.py:4: SettingWithCopyWarning: \n",
      "A value is trying to be set on a copy of a slice from a DataFrame.\n",
      "Try using .loc[row_indexer,col_indexer] = value instead\n",
      "\n",
      "See the caveats in the documentation: http://pandas.pydata.org/pandas-docs/stable/indexing.html#indexing-view-versus-copy\n",
      "  after removing the cwd from sys.path.\n"
     ]
    }
   ],
   "source": [
    "#looking at the new dataframe, some of the columns are not in the same in the\n",
    "#format we want. Let's get rid of unnecessary characters, replace the nans \n",
    "#with 0s and convert strings to integers \n",
    "dp['Arson'] = dp['Arson'].astype(str)\n",
    "dp = dp.replace({r',': ''}, regex=True)\n",
    "dp['Arson'] = dp.Arson.str.replace('nan','0')\n",
    "dp = dp.apply(pd.to_numeric)"
   ]
  },
  {
   "cell_type": "code",
   "execution_count": 6,
   "metadata": {},
   "outputs": [],
   "source": [
    "#from earlier evaluation, we need to drop some outliers\n",
    "ds = dp[dp['Population'] < 40000]"
   ]
  },
  {
   "cell_type": "code",
   "execution_count": 7,
   "metadata": {
    "collapsed": true
   },
   "outputs": [
    {
     "name": "stderr",
     "output_type": "stream",
     "text": [
      "c:\\users\\jmfra\\appdata\\local\\programs\\python\\python36-32\\lib\\site-packages\\ipykernel_launcher.py:3: SettingWithCopyWarning: \n",
      "A value is trying to be set on a copy of a slice from a DataFrame.\n",
      "Try using .loc[row_indexer,col_indexer] = value instead\n",
      "\n",
      "See the caveats in the documentation: http://pandas.pydata.org/pandas-docs/stable/indexing.html#indexing-view-versus-copy\n",
      "  This is separate from the ipykernel package so we can avoid doing imports until\n",
      "c:\\users\\jmfra\\appdata\\local\\programs\\python\\python36-32\\lib\\site-packages\\ipykernel_launcher.py:4: SettingWithCopyWarning: \n",
      "A value is trying to be set on a copy of a slice from a DataFrame.\n",
      "Try using .loc[row_indexer,col_indexer] = value instead\n",
      "\n",
      "See the caveats in the documentation: http://pandas.pydata.org/pandas-docs/stable/indexing.html#indexing-view-versus-copy\n",
      "  after removing the cwd from sys.path.\n"
     ]
    }
   ],
   "source": [
    "#from earlier evaluation, these categories are more linearly related with this\n",
    "#transformation\n",
    "ds['Violent_Crime2'] = ds['Violent_Crime']**.5\n",
    "ds['Rape2'] = ds['Rape']**.5"
   ]
  },
  {
   "cell_type": "code",
   "execution_count": 8,
   "metadata": {},
   "outputs": [],
   "source": [
    "#there are now 318 rows so let us make a train dataframe with 70% of the data\n",
    "#and a test dataframe with 30% of the data. since the original code is in alphabetcial\n",
    "#order we shouldn't have to worry about skewness but lets plot a graph of both \n",
    "#to make sure\n",
    "train = ds.loc[:223]\n",
    "test = ds.loc[224:]"
   ]
  },
  {
   "cell_type": "code",
   "execution_count": 9,
   "metadata": {},
   "outputs": [
    {
     "data": {
      "image/png": "[encoded data removed]",
      "text/plain": [
       "<matplotlib.figure.Figure at 0x1419f030>"
      ]
     },
     "metadata": {},
     "output_type": "display_data"
    }
   ],
   "source": [
    "plt.scatter(train['Population'], train['Property_Crime'])\n",
    "plt.axis((-1000,40000,-100,1400))\n",
    "plt.show()"
   ]
  },
  {
   "cell_type": "code",
   "execution_count": 10,
   "metadata": {},
   "outputs": [
    {
     "data": {
      "image/png": "[encoded data removed]",
      "text/plain": [
       "<matplotlib.figure.Figure at 0x1419fb50>"
      ]
     },
     "metadata": {},
     "output_type": "display_data"
    }
   ],
   "source": [
    "plt.scatter(test['Population'], test['Property_Crime'])\n",
    "plt.axis((-1000,40000,-100,1400))\n",
    "plt.show()"
   ]
  },
  {
   "cell_type": "code",
   "execution_count": 11,
   "metadata": {},
   "outputs": [
    {
     "name": "stdout",
     "output_type": "stream",
     "text": [
      "\n",
      "Coefficients: \n",
      " [[  1.07264155e-02   3.89564917e+01   4.12493223e+01]]\n",
      "\n",
      "Intercept: \n",
      " [-47.00005626]\n",
      "\n",
      "R-squared:\n",
      "0.744484577933\n"
     ]
    },
    {
     "data": {
      "image/png": "[encoded data removed]",
      "text/plain": [
       "<matplotlib.figure.Figure at 0x14292070>"
      ]
     },
     "metadata": {},
     "output_type": "display_data"
    },
    {
     "name": "stdout",
     "output_type": "stream",
     "text": [
      "Intercept        -47.000\n",
      "Population         0.011\n",
      "Violent_Crime2    38.956\n",
      "Rape2             41.249\n",
      "dtype: float64\n",
      "Intercept        0.001\n",
      "Population       0.000\n",
      "Violent_Crime2   0.000\n",
      "Rape2            0.012\n",
      "dtype: float64\n",
      "0.744484577933\n",
      "                     0       1\n",
      "Intercept      -74.127 -19.873\n",
      "Population       0.008   0.013\n",
      "Violent_Crime2  26.466  51.447\n",
      "Rape2            9.193  73.306\n"
     ]
    }
   ],
   "source": [
    "#lets run our initial linear regression\n",
    "regr = linear_model.LinearRegression()\n",
    "Y = train['Property_Crime'].values.reshape(-1, 1)\n",
    "X = train[['Population', 'Violent_Crime2', 'Rape2']]\n",
    "regr.fit(X, Y)\n",
    "print('\\nCoefficients: \\n', regr.coef_)\n",
    "print('\\nIntercept: \\n', regr.intercept_)\n",
    "print('\\nR-squared:')\n",
    "print(regr.score(X, Y))\n",
    "\n",
    "predicted = regr.predict(X).ravel()\n",
    "actual = train['Property_Crime']\n",
    "residual = actual - predicted\n",
    "plt.scatter(predicted, residual)\n",
    "plt.xlabel('Predicted')\n",
    "plt.ylabel('Residual')\n",
    "plt.axhline(y=0)\n",
    "plt.title('Residual vs. Predicted')\n",
    "plt.show()\n",
    "linear_formula = 'Property_Crime ~ Population+Violent_Crime2+Rape2'\n",
    "\n",
    "# Fit the model to our data using the formula.\n",
    "lm = smf.ols(formula=linear_formula, data=train).fit()\n",
    "print(lm.params)\n",
    "print(lm.pvalues)\n",
    "print(lm.rsquared)\n",
    "print(lm.conf_int())"
   ]
  },
  {
   "cell_type": "code",
   "execution_count": 12,
   "metadata": {},
   "outputs": [
    {
     "name": "stdout",
     "output_type": "stream",
     "text": [
      "\n",
      "Coefficients: \n",
      " [[  1.05379364e-02   5.11370859e+01]]\n",
      "\n",
      "Intercept: \n",
      " [-55.47298127]\n",
      "\n",
      "R-squared:\n",
      "0.736382324584\n"
     ]
    },
    {
     "data": {
      "image/png": "[encoded data removed]",
      "text/plain": [
       "<matplotlib.figure.Figure at 0x14287ad0>"
      ]
     },
     "metadata": {},
     "output_type": "display_data"
    },
    {
     "name": "stdout",
     "output_type": "stream",
     "text": [
      "Intercept        -55.473\n",
      "Population         0.011\n",
      "Violent_Crime2    51.137\n",
      "dtype: float64\n",
      "Intercept        0.000\n",
      "Population       0.000\n",
      "Violent_Crime2   0.000\n",
      "dtype: float64\n",
      "0.736382324584\n",
      "                     0       1\n",
      "Intercept      -82.137 -28.809\n",
      "Population       0.008   0.013\n",
      "Violent_Crime2  42.880  59.394\n"
     ]
    }
   ],
   "source": [
    "#looks like even though rape has a high correlation, and does not encompass 0\n",
    "#its individual r2 value is too high so lets remove it \n",
    "regr = linear_model.LinearRegression()\n",
    "Y = train['Property_Crime'].values.reshape(-1, 1)\n",
    "X = train[['Population', 'Violent_Crime2']]\n",
    "regr.fit(X, Y)\n",
    "print('\\nCoefficients: \\n', regr.coef_)\n",
    "print('\\nIntercept: \\n', regr.intercept_)\n",
    "print('\\nR-squared:')\n",
    "print(regr.score(X, Y))\n",
    "\n",
    "predicted = regr.predict(X).ravel()\n",
    "actual = train['Property_Crime']\n",
    "residual = actual - predicted\n",
    "plt.scatter(predicted, residual)\n",
    "plt.xlabel('Predicted')\n",
    "plt.ylabel('Residual')\n",
    "plt.axhline(y=0)\n",
    "plt.title('Residual vs. Predicted')\n",
    "plt.show()\n",
    "\n",
    "linear_formula = 'Property_Crime ~ Population+Violent_Crime2'\n",
    "\n",
    "# Fit the model to our data using the formula.\n",
    "lm = smf.ols(formula=linear_formula, data=train).fit()\n",
    "print(lm.params)\n",
    "print(lm.pvalues)\n",
    "print(lm.rsquared)\n",
    "print(lm.conf_int())"
   ]
  },
  {
   "cell_type": "code",
   "execution_count": 13,
   "metadata": {},
   "outputs": [
    {
     "name": "stdout",
     "output_type": "stream",
     "text": [
      "\n",
      "Coefficients: \n",
      " [[  9.96868258e-03   4.22932620e+01]]\n",
      "\n",
      "Intercept: \n",
      " [-29.46531911]\n",
      "\n",
      "R-squared:\n",
      "0.735932136312\n"
     ]
    },
    {
     "data": {
      "image/png": "[encoded data removed]",
      "text/plain": [
       "<matplotlib.figure.Figure at 0x14287cd0>"
      ]
     },
     "metadata": {},
     "output_type": "display_data"
    },
    {
     "name": "stdout",
     "output_type": "stream",
     "text": [
      "Intercept        -29.465\n",
      "Population         0.010\n",
      "Violent_Crime2    42.293\n",
      "dtype: float64\n",
      "Intercept        0.088\n",
      "Population       0.000\n",
      "Violent_Crime2   0.000\n",
      "dtype: float64\n",
      "0.735932136312\n",
      "                     0      1\n",
      "Intercept      -63.407  4.476\n",
      "Population       0.006  0.013\n",
      "Violent_Crime2  29.255 55.332\n"
     ]
    }
   ],
   "source": [
    "#now lets run the model on the test set\n",
    "regr = linear_model.LinearRegression()\n",
    "Y = test['Property_Crime'].values.reshape(-1, 1)\n",
    "X = test[['Population', 'Violent_Crime2']]\n",
    "regr.fit(X, Y)\n",
    "print('\\nCoefficients: \\n', regr.coef_)\n",
    "print('\\nIntercept: \\n', regr.intercept_)\n",
    "print('\\nR-squared:')\n",
    "print(regr.score(X, Y))\n",
    "\n",
    "predicted = regr.predict(X).ravel()\n",
    "actual = test['Property_Crime']\n",
    "residual = actual - predicted\n",
    "plt.scatter(predicted, residual)\n",
    "plt.xlabel('Predicted')\n",
    "plt.ylabel('Residual')\n",
    "plt.axhline(y=0)\n",
    "plt.title('Residual vs. Predicted')\n",
    "plt.show()\n",
    "\n",
    "linear_formula = 'Property_Crime ~ Population+Violent_Crime2'\n",
    "\n",
    "# Fit the model to our data using the formula.\n",
    "lm = smf.ols(formula=linear_formula, data=test).fit()\n",
    "print(lm.params)\n",
    "print(lm.pvalues)\n",
    "print(lm.rsquared)\n",
    "print(lm.conf_int())"
   ]
  },
  {
   "cell_type": "code",
   "execution_count": 14,
   "metadata": {},
   "outputs": [],
   "source": [
    "#change the test and train to a different portion of the data and retest\n",
    "train2 = ds.loc[95:]\n",
    "test2 = ds.loc[:94]"
   ]
  },
  {
   "cell_type": "code",
   "execution_count": 15,
   "metadata": {},
   "outputs": [
    {
     "name": "stdout",
     "output_type": "stream",
     "text": [
      "\n",
      "Coefficients: \n",
      " [[  1.01639877e-02   4.72592326e+01]]\n",
      "\n",
      "Intercept: \n",
      " [-41.5593325]\n",
      "\n",
      "R-squared:\n",
      "0.713807406615\n"
     ]
    },
    {
     "data": {
      "image/png": "[encoded data removed]",
      "text/plain": [
       "<matplotlib.figure.Figure at 0x1536acf0>"
      ]
     },
     "metadata": {},
     "output_type": "display_data"
    },
    {
     "name": "stdout",
     "output_type": "stream",
     "text": [
      "Intercept        -41.559\n",
      "Population         0.010\n",
      "Violent_Crime2    47.259\n",
      "dtype: float64\n",
      "Intercept        0.003\n",
      "Population       0.000\n",
      "Violent_Crime2   0.000\n",
      "dtype: float64\n",
      "0.713807406615\n",
      "                     0       1\n",
      "Intercept      -68.510 -14.609\n",
      "Population       0.008   0.013\n",
      "Violent_Crime2  38.826  55.693\n"
     ]
    }
   ],
   "source": [
    "regr = linear_model.LinearRegression()\n",
    "Y = train2['Property_Crime'].values.reshape(-1, 1)\n",
    "X = train2[['Population', 'Violent_Crime2']]\n",
    "regr.fit(X, Y)\n",
    "print('\\nCoefficients: \\n', regr.coef_)\n",
    "print('\\nIntercept: \\n', regr.intercept_)\n",
    "print('\\nR-squared:')\n",
    "print(regr.score(X, Y))\n",
    "\n",
    "predicted = regr.predict(X).ravel()\n",
    "actual = train2['Property_Crime']\n",
    "residual = actual - predicted\n",
    "plt.scatter(predicted, residual)\n",
    "plt.xlabel('Predicted')\n",
    "plt.ylabel('Residual')\n",
    "plt.axhline(y=0)\n",
    "plt.title('Residual vs. Predicted')\n",
    "plt.show()\n",
    "\n",
    "linear_formula = 'Property_Crime ~ Population+Violent_Crime2'\n",
    "\n",
    "# Fit the model to our data using the formula.\n",
    "lm = smf.ols(formula=linear_formula, data=train2).fit()\n",
    "print(lm.params)\n",
    "print(lm.pvalues)\n",
    "print(lm.rsquared)\n",
    "print(lm.conf_int())"
   ]
  },
  {
   "cell_type": "code",
   "execution_count": 16,
   "metadata": {},
   "outputs": [
    {
     "name": "stdout",
     "output_type": "stream",
     "text": [
      "\n",
      "Coefficients: \n",
      " [[  9.85519017e-03   5.43370071e+01]]\n",
      "\n",
      "Intercept: \n",
      " [-59.7909601]\n",
      "\n",
      "R-squared:\n",
      "0.801233960794\n"
     ]
    },
    {
     "data": {
      "image/png": "[encoded data removed]",
      "text/plain": [
       "<matplotlib.figure.Figure at 0x153493b0>"
      ]
     },
     "metadata": {},
     "output_type": "display_data"
    },
    {
     "name": "stdout",
     "output_type": "stream",
     "text": [
      "Intercept        -59.791\n",
      "Population         0.010\n",
      "Violent_Crime2    54.337\n",
      "dtype: float64\n",
      "Intercept        0.000\n",
      "Population       0.000\n",
      "Violent_Crime2   0.000\n",
      "dtype: float64\n",
      "0.801233960794\n",
      "                     0       1\n",
      "Intercept      -89.621 -29.961\n",
      "Population       0.007   0.013\n",
      "Violent_Crime2  42.312  66.362\n"
     ]
    }
   ],
   "source": [
    "regr = linear_model.LinearRegression()\n",
    "Y = test2['Property_Crime'].values.reshape(-1, 1)\n",
    "X = test2[['Population', 'Violent_Crime2']]\n",
    "regr.fit(X, Y)\n",
    "print('\\nCoefficients: \\n', regr.coef_)\n",
    "print('\\nIntercept: \\n', regr.intercept_)\n",
    "print('\\nR-squared:')\n",
    "print(regr.score(X, Y))\n",
    "\n",
    "predicted = regr.predict(X).ravel()\n",
    "actual = test2['Property_Crime']\n",
    "residual = actual - predicted\n",
    "plt.scatter(predicted, residual)\n",
    "plt.xlabel('Predicted')\n",
    "plt.ylabel('Residual')\n",
    "plt.axhline(y=0)\n",
    "plt.title('Residual vs. Predicted')\n",
    "plt.show()\n",
    "\n",
    "linear_formula = 'Property_Crime ~ Population+Violent_Crime2'\n",
    "\n",
    "# Fit the model to our data using the formula.\n",
    "lm = smf.ols(formula=linear_formula, data=test2).fit()\n",
    "print(lm.params)\n",
    "print(lm.pvalues)\n",
    "print(lm.rsquared)\n",
    "print(lm.conf_int())"
   ]
  },
  {
   "cell_type": "code",
   "execution_count": 17,
   "metadata": {},
   "outputs": [],
   "source": [
    "#loading data for maryland instead of new york to run the model on and see\n",
    "#if it carries over\n",
    "dm = pd.read_csv(r'C:\\Users\\jmfra\\OneDrive\\Documents\\Thinkful Data Science Files\\2.5.2 data\\table_8.csv')"
   ]
  },
  {
   "cell_type": "code",
   "execution_count": 18,
   "metadata": {
    "collapsed": true
   },
   "outputs": [
    {
     "name": "stderr",
     "output_type": "stream",
     "text": [
      "c:\\users\\jmfra\\appdata\\local\\programs\\python\\python36-32\\lib\\site-packages\\ipykernel_launcher.py:5: SettingWithCopyWarning: \n",
      "A value is trying to be set on a copy of a slice from a DataFrame.\n",
      "Try using .loc[row_indexer,col_indexer] = value instead\n",
      "\n",
      "See the caveats in the documentation: http://pandas.pydata.org/pandas-docs/stable/indexing.html#indexing-view-versus-copy\n",
      "  \"\"\"\n",
      "c:\\users\\jmfra\\appdata\\local\\programs\\python\\python36-32\\lib\\site-packages\\ipykernel_launcher.py:6: SettingWithCopyWarning: \n",
      "A value is trying to be set on a copy of a slice from a DataFrame.\n",
      "Try using .loc[row_indexer,col_indexer] = value instead\n",
      "\n",
      "See the caveats in the documentation: http://pandas.pydata.org/pandas-docs/stable/indexing.html#indexing-view-versus-copy\n",
      "  \n",
      "c:\\users\\jmfra\\appdata\\local\\programs\\python\\python36-32\\lib\\site-packages\\ipykernel_launcher.py:7: SettingWithCopyWarning: \n",
      "A value is trying to be set on a copy of a slice from a DataFrame.\n",
      "Try using .loc[row_indexer,col_indexer] = value instead\n",
      "\n",
      "See the caveats in the documentation: http://pandas.pydata.org/pandas-docs/stable/indexing.html#indexing-view-versus-copy\n",
      "  import sys\n",
      "c:\\users\\jmfra\\appdata\\local\\programs\\python\\python36-32\\lib\\site-packages\\ipykernel_launcher.py:8: SettingWithCopyWarning: \n",
      "A value is trying to be set on a copy of a slice from a DataFrame.\n",
      "Try using .loc[row_indexer,col_indexer] = value instead\n",
      "\n",
      "See the caveats in the documentation: http://pandas.pydata.org/pandas-docs/stable/indexing.html#indexing-view-versus-copy\n",
      "  \n",
      "c:\\users\\jmfra\\appdata\\local\\programs\\python\\python36-32\\lib\\site-packages\\ipykernel_launcher.py:9: SettingWithCopyWarning: \n",
      "A value is trying to be set on a copy of a slice from a DataFrame.\n",
      "Try using .loc[row_indexer,col_indexer] = value instead\n",
      "\n",
      "See the caveats in the documentation: http://pandas.pydata.org/pandas-docs/stable/indexing.html#indexing-view-versus-copy\n",
      "  if __name__ == '__main__':\n",
      "c:\\users\\jmfra\\appdata\\local\\programs\\python\\python36-32\\lib\\site-packages\\ipykernel_launcher.py:10: SettingWithCopyWarning: \n",
      "A value is trying to be set on a copy of a slice from a DataFrame.\n",
      "Try using .loc[row_indexer,col_indexer] = value instead\n",
      "\n",
      "See the caveats in the documentation: http://pandas.pydata.org/pandas-docs/stable/indexing.html#indexing-view-versus-copy\n",
      "  # Remove the CWD from sys.path while we load stuff.\n",
      "c:\\users\\jmfra\\appdata\\local\\programs\\python\\python36-32\\lib\\site-packages\\ipykernel_launcher.py:11: SettingWithCopyWarning: \n",
      "A value is trying to be set on a copy of a slice from a DataFrame.\n",
      "Try using .loc[row_indexer,col_indexer] = value instead\n",
      "\n",
      "See the caveats in the documentation: http://pandas.pydata.org/pandas-docs/stable/indexing.html#indexing-view-versus-copy\n",
      "  # This is added back by InteractiveShellApp.init_path()\n",
      "c:\\users\\jmfra\\appdata\\local\\programs\\python\\python36-32\\lib\\site-packages\\ipykernel_launcher.py:12: SettingWithCopyWarning: \n",
      "A value is trying to be set on a copy of a slice from a DataFrame.\n",
      "Try using .loc[row_indexer,col_indexer] = value instead\n",
      "\n",
      "See the caveats in the documentation: http://pandas.pydata.org/pandas-docs/stable/indexing.html#indexing-view-versus-copy\n",
      "  if sys.path[0] == '':\n",
      "c:\\users\\jmfra\\appdata\\local\\programs\\python\\python36-32\\lib\\site-packages\\ipykernel_launcher.py:13: SettingWithCopyWarning: \n",
      "A value is trying to be set on a copy of a slice from a DataFrame.\n",
      "Try using .loc[row_indexer,col_indexer] = value instead\n",
      "\n",
      "See the caveats in the documentation: http://pandas.pydata.org/pandas-docs/stable/indexing.html#indexing-view-versus-copy\n",
      "  del sys.path[0]\n",
      "c:\\users\\jmfra\\appdata\\local\\programs\\python\\python36-32\\lib\\site-packages\\ipykernel_launcher.py:14: SettingWithCopyWarning: \n",
      "A value is trying to be set on a copy of a slice from a DataFrame.\n",
      "Try using .loc[row_indexer,col_indexer] = value instead\n",
      "\n",
      "See the caveats in the documentation: http://pandas.pydata.org/pandas-docs/stable/indexing.html#indexing-view-versus-copy\n",
      "  \n"
     ]
    }
   ],
   "source": [
    "#identical data cleaning as before\n",
    "dm =dm.loc[:76]\n",
    "dm2 = []\n",
    "dm2 = dm[['Population']]\n",
    "dm2['Violent_Crime'] = dm[['Violent\\ncrime']]\n",
    "dm2['Murder'] = dm[['Murder and\\nnonnegligent\\nmanslaughter']]\n",
    "dm2['Rape'] = dm[['Rape\\n(legacy\\ndefinition)2']]\n",
    "dm2['Robbery'] = dm[['Robbery']]\n",
    "dm2['Burglary'] = dm[['Burglary']]\n",
    "dm2['Aggravated_Assault'] = dm[['Aggravated\\nassault']]\n",
    "dm2['Larceny_Theft'] = dm[['Larceny-\\ntheft']]\n",
    "dm2['Motor_Vehicle_Theft'] = dm[['Motor\\nvehicle\\ntheft']]\n",
    "dm2['Arson'] = dm[['Arson']]\n",
    "dm2['Property_Crime'] = dm[['Property\\ncrime']]"
   ]
  },
  {
   "cell_type": "code",
   "execution_count": 19,
   "metadata": {
    "collapsed": true
   },
   "outputs": [
    {
     "name": "stderr",
     "output_type": "stream",
     "text": [
      "c:\\users\\jmfra\\appdata\\local\\programs\\python\\python36-32\\lib\\site-packages\\ipykernel_launcher.py:1: SettingWithCopyWarning: \n",
      "A value is trying to be set on a copy of a slice from a DataFrame.\n",
      "Try using .loc[row_indexer,col_indexer] = value instead\n",
      "\n",
      "See the caveats in the documentation: http://pandas.pydata.org/pandas-docs/stable/indexing.html#indexing-view-versus-copy\n",
      "  \"\"\"Entry point for launching an IPython kernel.\n"
     ]
    }
   ],
   "source": [
    "dm2['Arson'] = dm2['Arson'].astype(str)\n",
    "dm2 = dm2.replace({r',': ''}, regex=True)\n",
    "dm2['Arson'] = dm2.Arson.str.replace('nan','0')\n",
    "dm2 = dm2.apply(pd.to_numeric)"
   ]
  },
  {
   "cell_type": "code",
   "execution_count": 20,
   "metadata": {},
   "outputs": [
    {
     "data": {
      "image/png": "[encoded data removed]",
      "text/plain": [
       "<matplotlib.figure.Figure at 0x153f4f70>"
      ]
     },
     "metadata": {},
     "output_type": "display_data"
    }
   ],
   "source": [
    "#get rid of outliers\n",
    "plt.scatter(dm2['Population'], dm2['Property_Crime'])\n",
    "plt.show()"
   ]
  },
  {
   "cell_type": "code",
   "execution_count": 21,
   "metadata": {},
   "outputs": [
    {
     "data": {
      "image/png": "[encoded data removed]",
      "text/plain": [
       "<matplotlib.figure.Figure at 0x153ec550>"
      ]
     },
     "metadata": {},
     "output_type": "display_data"
    }
   ],
   "source": [
    "dm2 = dm2[dm2['Population'] < 100000]\n",
    "plt.scatter(dm2['Population'], dm2['Property_Crime'])\n",
    "plt.show()"
   ]
  },
  {
   "cell_type": "code",
   "execution_count": 22,
   "metadata": {},
   "outputs": [
    {
     "data": {
      "text/plain": [
       "(-50, 22000)"
      ]
     },
     "execution_count": 22,
     "metadata": {},
     "output_type": "execute_result"
    },
    {
     "data": {
      "image/png": "[encoded data removed]",
      "text/plain": [
       "<matplotlib.figure.Figure at 0x153ec370>"
      ]
     },
     "metadata": {},
     "output_type": "display_data"
    }
   ],
   "source": [
    "dm2.boxplot(column = 'Population')\n",
    "plt.ylim(-50, 22000)"
   ]
  },
  {
   "cell_type": "code",
   "execution_count": 23,
   "metadata": {},
   "outputs": [],
   "source": [
    "dm2 = dm2[dm2['Population'] < 23000]"
   ]
  },
  {
   "cell_type": "code",
   "execution_count": 24,
   "metadata": {},
   "outputs": [],
   "source": [
    "#update the data\n",
    "dm2['Violent_Crime2'] = dm2['Violent_Crime']**.5"
   ]
  },
  {
   "cell_type": "code",
   "execution_count": 25,
   "metadata": {},
   "outputs": [
    {
     "name": "stdout",
     "output_type": "stream",
     "text": [
      "\n",
      "Coefficients: \n",
      " [[  1.86347432e-02   5.54241449e+01]]\n",
      "\n",
      "Intercept: \n",
      " [-132.87178792]\n",
      "\n",
      "R-squared:\n",
      "0.743923444396\n"
     ]
    },
    {
     "data": {
      "image/png": "[encoded data removed]",
      "text/plain": [
       "<matplotlib.figure.Figure at 0x152c2590>"
      ]
     },
     "metadata": {},
     "output_type": "display_data"
    },
    {
     "name": "stdout",
     "output_type": "stream",
     "text": [
      "Intercept        -132.872\n",
      "Population          0.019\n",
      "Violent_Crime2     55.424\n",
      "dtype: float64\n",
      "Intercept        0.000\n",
      "Population       0.004\n",
      "Violent_Crime2   0.000\n",
      "dtype: float64\n",
      "0.743923444396\n",
      "                      0       1\n",
      "Intercept      -193.790 -71.953\n",
      "Population        0.006   0.031\n",
      "Violent_Crime2   34.765  76.083\n"
     ]
    }
   ],
   "source": [
    "regr = linear_model.LinearRegression()\n",
    "Y = dm2['Property_Crime'].values.reshape(-1, 1)\n",
    "X = dm2[['Population', 'Violent_Crime2']]\n",
    "regr.fit(X, Y)\n",
    "print('\\nCoefficients: \\n', regr.coef_)\n",
    "print('\\nIntercept: \\n', regr.intercept_)\n",
    "print('\\nR-squared:')\n",
    "print(regr.score(X, Y))\n",
    "\n",
    "predicted = regr.predict(X).ravel()\n",
    "actual = dm2['Property_Crime']\n",
    "residual = actual - predicted\n",
    "plt.scatter(predicted, residual)\n",
    "plt.xlabel('Predicted')\n",
    "plt.ylabel('Residual')\n",
    "plt.axhline(y=0)\n",
    "plt.title('Residual vs. Predicted')\n",
    "plt.show()\n",
    "\n",
    "linear_formula = 'Property_Crime ~ Population+Violent_Crime2'\n",
    "\n",
    "# Fit the model to our data using the formula.\n",
    "lm = smf.ols(formula=linear_formula, data=dm2).fit()\n",
    "print(lm.params)\n",
    "print(lm.pvalues)\n",
    "print(lm.rsquared)\n",
    "print(lm.conf_int())"
   ]
  },
  {
   "cell_type": "markdown",
   "metadata": {},
   "source": [
    "Looks like the model we ran originally, while not good, still predicts data at the roughly the same accuracy across the used test and train sets as well as another set of data. "
   ]
  },
  {
   "cell_type": "code",
   "execution_count": null,
   "metadata": {},
   "outputs": [],
   "source": []
  }
 ],
 "metadata": {
  "kernelspec": {
   "display_name": "Python 3",
   "language": "python",
   "name": "python3"
  },
  "language_info": {
   "codemirror_mode": {
    "name": "ipython",
    "version": 3
   },
   "file_extension": ".py",
   "mimetype": "text/x-python",
   "name": "python",
   "nbconvert_exporter": "python",
   "pygments_lexer": "ipython3",
   "version": "3.6.3"
  }
 },
 "nbformat": 4,
 "nbformat_minor": 2
}
